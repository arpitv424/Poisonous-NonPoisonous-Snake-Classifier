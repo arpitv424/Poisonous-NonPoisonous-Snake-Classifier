{
  "nbformat": 4,
  "nbformat_minor": 0,
  "metadata": {
    "colab": {
      "name": "SnkCls.ipynb",
      "provenance": [],
      "private_outputs": true,
      "collapsed_sections": [],
      "machine_shape": "hm",
      "mount_file_id": "1y7BZ9SbC8Pog7GjLvz8dVz-YXPK9TBc2",
      "authorship_tag": "ABX9TyOx9Vo7G3E9mNRmDbCffrdl",
      "include_colab_link": true
    },
    "kernelspec": {
      "name": "python3",
      "display_name": "Python 3"
    },
    "accelerator": "GPU"
  },
  "cells": [
    {
      "cell_type": "markdown",
      "metadata": {
        "id": "view-in-github",
        "colab_type": "text"
      },
      "source": [
        "<a href=\"https://colab.research.google.com/github/arpitv424/Poisonous-NonPoisonous-Snake-Classifier/blob/master/SnkCls.ipynb\" target=\"_parent\"><img src=\"https://colab.research.google.com/assets/colab-badge.svg\" alt=\"Open In Colab\"/></a>"
      ]
    },
    {
      "cell_type": "code",
      "metadata": {
        "id": "RGMq4-nzA8zT",
        "colab_type": "code",
        "colab": {}
      },
      "source": [
        "from tensorflow.keras.models import Sequential\n",
        "from tensorflow.keras.layers import Dense, Conv2D, Flatten, Dropout, MaxPooling2D\n",
        "import tensorflow as tf\n",
        "from tensorflow.keras.preprocessing.image import ImageDataGenerator\n",
        "import numpy as np\n",
        "import matplotlib.pyplot as plt\n",
        "from google.colab.patches import cv2_imshow"
      ],
      "execution_count": 0,
      "outputs": []
    },
    {
      "cell_type": "code",
      "metadata": {
        "id": "DM-0OZsKB0HA",
        "colab_type": "code",
        "colab": {}
      },
      "source": [
        "train_path=\"/content/drive/My Drive/SnkCls/Train\"\n",
        "test_path=\"/content/drive/My Drive/SnkCls/Test\"\n",
        "valid_path=\"/content/drive/My Drive/SnkCls/valid\""
      ],
      "execution_count": 0,
      "outputs": []
    },
    {
      "cell_type": "code",
      "metadata": {
        "id": "xGEqD92JCpOW",
        "colab_type": "code",
        "colab": {}
      },
      "source": [
        "train=ImageDataGenerator().flow_from_directory(train_path, target_size=(300,300), classes=['N-V','V'], batch_size=4)\n",
        "test=ImageDataGenerator().flow_from_directory(valid_path, target_size=(300,300), classes=['N-V','V'])\n",
        "valid=ImageDataGenerator().flow_from_directory(valid_path, target_size=(300,300), classes=['N-V','V'])"
      ],
      "execution_count": 0,
      "outputs": []
    },
    {
      "cell_type": "code",
      "metadata": {
        "id": "vr5Zpe6iIMLU",
        "colab_type": "code",
        "colab": {}
      },
      "source": [
        "model = Sequential([\n",
        "    Conv2D(96,(11,11), activation='relu', input_shape=(300,300,3)),\n",
        "    Conv2D(256,(5,5), activation='relu'),\n",
        "    Conv2D(348,(3,3), activation='relu'),\n",
        "    Conv2D(348,(3,3), activation='relu'),\n",
        "    Conv2D(256,(3,3), activation='relu'),\n",
        "    MaxPooling2D((2, 2)),\n",
        "    Flatten(),\n",
        "    Dense(2, activation='softmax')])"
      ],
      "execution_count": 0,
      "outputs": []
    },
    {
      "cell_type": "code",
      "metadata": {
        "id": "6tSS2hXjdukA",
        "colab_type": "code",
        "colab": {}
      },
      "source": [
        "model.summary()"
      ],
      "execution_count": 0,
      "outputs": []
    },
    {
      "cell_type": "code",
      "metadata": {
        "id": "EJtq0fRjdyF6",
        "colab_type": "code",
        "colab": {}
      },
      "source": [
        "model.compile(optimizer='adam', loss=tf.keras.losses.CategoricalCrossentropy(), metrics=['accuracy'])"
      ],
      "execution_count": 0,
      "outputs": []
    },
    {
      "cell_type": "code",
      "metadata": {
        "id": "2s2PMSBQfnOR",
        "colab_type": "code",
        "colab": {}
      },
      "source": [
        "for i in range(139):\n",
        "  X, Y= next(train)\n",
        "  model.fit(X, Y, epochs=7)"
      ],
      "execution_count": 0,
      "outputs": []
    },
    {
      "cell_type": "code",
      "metadata": {
        "id": "Q7r0Q2KjgTE9",
        "colab_type": "code",
        "colab": {}
      },
      "source": [
        "valid_img, valid_labels=next(valid)"
      ],
      "execution_count": 0,
      "outputs": []
    },
    {
      "cell_type": "code",
      "metadata": {
        "id": "hbpWZ3QBj_e7",
        "colab_type": "code",
        "colab": {}
      },
      "source": [
        "loss, acc = model.evaluate(valid_img, valid_labels)"
      ],
      "execution_count": 0,
      "outputs": []
    },
    {
      "cell_type": "code",
      "metadata": {
        "id": "7bbrXYapkM4u",
        "colab_type": "code",
        "colab": {}
      },
      "source": [
        "def predict_check(res, x):  \n",
        "  pred=res[x]\n",
        "  if pred[0]>pred[1]:\n",
        "    pred=[1,0]\n",
        "  else:\n",
        "    pred=[0,1]\n",
        "  print(\"Prd: \"+str(pred)+\"Act: \"+str(valid_labels[x]))"
      ],
      "execution_count": 0,
      "outputs": []
    },
    {
      "cell_type": "code",
      "metadata": {
        "id": "vEY1oMYskOzW",
        "colab_type": "code",
        "colab": {}
      },
      "source": [
        " res = model.predict(valid_img)\n",
        " c=0\n",
        " for i in range(len(res)):\n",
        "    predict_check(res, i)\n",
        "    c+=1"
      ],
      "execution_count": 0,
      "outputs": []
    },
    {
      "cell_type": "code",
      "metadata": {
        "id": "taljOh7WpYP2",
        "colab_type": "code",
        "colab": {}
      },
      "source": [
        "cv2_imshow(valid_img[1])"
      ],
      "execution_count": 0,
      "outputs": []
    }
  ]
}